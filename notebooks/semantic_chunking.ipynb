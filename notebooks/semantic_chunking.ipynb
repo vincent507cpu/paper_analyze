{
 "cells": [
  {
   "cell_type": "code",
   "execution_count": 2,
   "metadata": {},
   "outputs": [
    {
     "name": "stdout",
     "output_type": "stream",
     "text": [
      "新闻内容：\n",
      "（西藏４０年）藏传佛教学位体系恢复引发僧侣学经热\n",
      "（西藏４０年）藏传佛教学位体系恢复引发僧侣学\n",
      "经热\n",
      "　　新华社拉萨８月２３日电（记者吴宇　旺嘉）２１岁\n",
      "的藏族僧人白玛朗杰每天苦读经书的想法很单纯，就是早\n",
      "日考取藏传佛教显宗的最高学位－－格西。\n",
      "　　今年夏天，经过在拉萨大昭寺释迦牟尼佛殿前严格的\n",
      "终考，西藏诞生了近１６年来首批“格西拉让巴”，这是\n",
      "格西学位体系中最高的等级。曾一度停顿的格西学位考试\n",
      "制度开始在西藏恢复。\n",
      "　　白玛朗杰是日喀则地区谢通门县扎西坚白寺的僧人。\n",
      "他说，自从恢复了格西学位考试制度，在自己寺院的学经\n",
      "僧中，最“热门”的话题就是发愤苦读，参加考试，早日\n",
      "成为一名学识渊博的经师。\n",
      "　　今年刚好轮到白玛朗杰帮厨一年，这件给大家做饭的\n",
      "差事令他颇为烦恼。“不是因为怕苦、怕累，而是太费时\n",
      "间了。看到别人都在用功学经，我真担心会落在后面。”\n",
      "白玛朗杰说。\n",
      "　　格西，藏语意为善知识，近似于现代意义上的博士学\n",
      "位，共分为四个等级。拉让巴格西之外的三个等级的格西\n",
      "由各寺院自行考评，无需通过拉萨传昭大法会的辩经考\n",
      "试。格西考试制度去年恢复后，西藏专门组织成立了一个\n",
      "由１６名藏传佛教界活佛高僧和知名专家学者组成的考评\n",
      "委员会。\n",
      "　　入寺６年的白玛朗杰说，考取格西学位并不仅仅是为\n",
      "了一种崇高的荣耀。他觉得作为一名僧人，更重要的是求\n",
      "得对哲学问题深刻的理解，真正弄懂佛学经典的含义。他\n",
      "说：“如果僧人仅能机械地念念过去的经文，不能结合人\n",
      "们不同的心理需求活学活用经文，就做不到发自内心地为\n",
      "众生祈祷。”\n",
      "　　拉萨甘丹寺７３岁的经师吉米扎巴是今年获得“格西\n",
      "拉让巴”学位证书的６名高僧之一，他在六人中排名第\n",
      "四。作为藏传佛教格鲁派的发祥地，甘丹寺为吉米扎巴考\n",
      "取格西学位举行了隆重的庆祝活动。\n",
      "　　通过大规模辩经活动遴选 “格西拉让巴”的传昭大\n",
      "法会，就是由藏传佛教格鲁派创始人宗喀巴在１４０９年\n",
      "藏历正月在拉萨发起的。\n",
      "　　吉米扎巴说：“在安定的社会形势下恢复格西考试，\n",
      "了却了我一生的心愿，也让许多普通僧人有了明确的目\n",
      "标。看到藏传佛教教育制度开始全面走上正轨，僧人学经\n",
      "和晋升学位的权益得到保障，我感到很欣慰。”\n",
      "　　甘丹寺民主管理委员会副主任阿旺说，想考取最高格\n",
      "西学位的僧人必须先面对寺内的竞争和筛选。甘丹寺现有\n",
      "僧人４５０名，学经僧约占一半，其中有３０多名中青年\n",
      "僧人经过多年研读，对藏传佛教显宗的《释量论》、《入\n",
      "中观论》、《现观庄严论》、《戒律论》和《俱舍论》等\n",
      "五部大论有了较深入的理解，初步具备了考取格西的学识\n",
      "和资历，但是甘丹寺每年举荐参加全区“格西拉让巴”考\n",
      "试的名额只有两个。\n",
      "　　阿旺认为，格西考试不仅是学经僧之间宗教学识的竞\n",
      "赛，也是各大寺院间教育水准的较量，事关寺庙的荣誉和\n",
      "地位。他说：“以后的格西考试，竞争肯定会越来越激\n",
      "烈。”\n",
      "　　重新恢复的格西考试除了传统的辩经环节外，还新增\n",
      "了文化综合考试等科目。吉米扎巴认为，新一代的格西不\n",
      "仅要佛学造诣深厚，满足信教群众的精神需求，最好还要\n",
      "适应时代发展，懂些汉语、英语和现代科学，这样可以与\n",
      "来访的海内外游客开展对话交流，以使藏传佛教尽可能准\n",
      "确、深入、全面地为人们了解。\n",
      "　　中国佛教协会西藏分会负责格西考试制度的恢复工\n",
      "作，会长珠康·土登克珠活佛担任考评委员会主任。他强\n",
      "调，在引入现代文化综合考试的同时，格西考试仍要固守\n",
      "一些传统，特别是藏传佛教僧人特有的苦修精神。\n",
      "　　据昌都地区强巴林寺７４岁的吉隆·向巴曲扎活佛介\n",
      "绍，过去僧人考取格西前，必须经历三四十年的苦修。学\n",
      "经任务之重，有时甚至连烧开水做饭的时间都没有，只能\n",
      "将凉水放在太阳下温热一下，拌着糌粑填肚子。“起五更、\n",
      "睡半夜”，更是家常便饭。\n",
      "　　这位２７岁就考取格西的高僧说：“现代社会优越的\n",
      "物质条件加上传统的苦修精神，新时代的格西一定能超越\n",
      "前人的成就，为国家和众生做出更多有益的贡献。”（完）\n",
      "类别：\n"
     ]
    }
   ],
   "source": [
    "import os\n",
    "import json\n",
    "from pathlib import Path\n",
    "\n",
    "path = Path(os.getcwd()).parent.parent.joinpath('Data/LongBench/lsht.jsonl')\n",
    "with open(path) as f:\n",
    "    for line in f.readlines():\n",
    "        passage = json.loads(line)['input']\n",
    "        break\n",
    "    \n",
    "print(passage)"
   ]
  },
  {
   "cell_type": "code",
   "execution_count": 3,
   "metadata": {},
   "outputs": [
    {
     "name": "stderr",
     "output_type": "stream",
     "text": [
      "/Users/wenjiazhai/miniconda3/envs/langchain/lib/python3.11/site-packages/sentence_transformers/cross_encoder/CrossEncoder.py:13: TqdmWarning: IProgress not found. Please update jupyter and ipywidgets. See https://ipywidgets.readthedocs.io/en/stable/user_install.html\n",
      "  from tqdm.autonotebook import tqdm, trange\n"
     ]
    }
   ],
   "source": [
    "from langchain_huggingface import HuggingFaceEmbeddings\n",
    "\n",
    "embed = HuggingFaceEmbeddings(model_name='BAAI/bge-small-en-v1.5')"
   ]
  },
  {
   "cell_type": "code",
   "execution_count": null,
   "metadata": {},
   "outputs": [],
   "source": []
  }
 ],
 "metadata": {
  "kernelspec": {
   "display_name": "langchain",
   "language": "python",
   "name": "python3"
  },
  "language_info": {
   "codemirror_mode": {
    "name": "ipython",
    "version": 3
   },
   "file_extension": ".py",
   "mimetype": "text/x-python",
   "name": "python",
   "nbconvert_exporter": "python",
   "pygments_lexer": "ipython3",
   "version": "3.11.10"
  }
 },
 "nbformat": 4,
 "nbformat_minor": 2
}
