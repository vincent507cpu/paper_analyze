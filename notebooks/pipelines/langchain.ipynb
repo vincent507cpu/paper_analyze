{
 "cells": [
  {
   "cell_type": "code",
   "execution_count": 29,
   "metadata": {},
   "outputs": [],
   "source": [
    "import os\n",
    "import json\n",
    "from pathlib import Path\n",
    "from tqdm import tqdm\n",
    "import pandas as pd"
   ]
  },
  {
   "cell_type": "markdown",
   "metadata": {},
   "source": [
    "# vanilla pipeline"
   ]
  },
  {
   "cell_type": "code",
   "execution_count": 31,
   "metadata": {},
   "outputs": [],
   "source": [
    "path = Path('/Users/wenjiazhai/Documents/GitHub/Data/LongBench')\n",
    "data = {'query': [], 'answer': [], 'context': []}\n",
    "exclude = ['dureader.jsonl', 'lsht.jsonl', 'multifieldqa_zh.jsonl', 'passage_retrieval_zh.jsonl', 'repobench-p.jsonl', 'vcsum.jsonl', 'trec.jsonl', 'lcc.jsonl', 'samsum.jsonl', 'gov_report.jsonl', 'triviaqa.jsonl', 'qmsum.jsonl', 'passage_count.jsonl']\n",
    "include = ['multifieldqa_en.jsonl', 'qasper.jsonl', '2wikimqa.jsonl', 'hotpotqa.jsonl', 'narrativeqa.jsonl', 'musique.jsonl']\n",
    "\n",
    "for file in include:\n",
    "    with open(path.joinpath(file), 'r') as f:\n",
    "        for line in f.readlines():\n",
    "            d = json.loads(line)\n",
    "            # print(f\"\\n\\n-------------------------------------\\n\\ndataset: {file}\\n======\\nquery: {d['input']}\\n======\\nanswer: {d['answers']}\\n======\\ncontext: {d['context']}\")\n",
    "            # break\n",
    "            num = d['context'].count('\\n')\n",
    "            length = len(d['context'])\n",
    "            # print(f\"{file}: line break: {num}, length: {length}, line break pct: {num/length:.4f}\")\n",
    "            if num/length > 0.01:\n",
    "                continue\n",
    "            if not d['input']:\n",
    "                continue\n",
    "            if 'Passage' in d['context']:\n",
    "                continue\n",
    "            # if d['input'] == \"The text discusses the challenges faced by compilers when invoking procedures with parameters in different programming languages. In Fortran, parameters are always passed by reference, making it relatively easy to generate the code. However, in languages like Pascal, parameters can be passed by different methods chosen by the programmer (by reference, by value, or by \\\"name\\\"). This information is only known at the procedure's definition, which may not be encountered before its invocation. To address this issue, a special construction called a \\\"forward\\\" declaration is introduced in Pascal. This allows the compiler to know the parameter's usage before its full definition, enabling code generation without the need for a messy fixup mechanism or multiple passes through the source code.\":\n",
    "            #     print(file)\n",
    "            #     break\n",
    "            data['query'].append(d['input'])\n",
    "            data['answer'].append(''.join(d['answers']))\n",
    "            data['context'].append(d['context'])"
   ]
  },
  {
   "cell_type": "code",
   "execution_count": 32,
   "metadata": {},
   "outputs": [],
   "source": [
    "os.makedirs('../data', exist_ok=True)\n",
    "with open('../data/LongBench.csv', 'w') as f:\n",
    "    json.dump(data, f, indent=4, ensure_ascii=False)"
   ]
  },
  {
   "cell_type": "code",
   "execution_count": 4,
   "metadata": {},
   "outputs": [
    {
     "name": "stderr",
     "output_type": "stream",
     "text": [
      "Generating train split: 314 examples [00:00, 5761.33 examples/s]\n"
     ]
    }
   ],
   "source": [
    "from datasets import Dataset\n",
    "\n",
    "# ds = Dataset.from_dict(data)\n",
    "ds = Dataset.from_json('/Users/wenjiazhai/Documents/GitHub/paper_analyze/data/LongBench.csv')"
   ]
  },
  {
   "cell_type": "code",
   "execution_count": 40,
   "metadata": {},
   "outputs": [],
   "source": [
    "from langchain_text_splitters import RecursiveCharacterTextSplitter\n",
    "from langchain_core import documents\n",
    "\n",
    "splitter = RecursiveCharacterTextSplitter(chunk_size=512, chunk_overlap=32)\n",
    "chunks = splitter.create_documents(ds['context'])"
   ]
  },
  {
   "cell_type": "code",
   "execution_count": 41,
   "metadata": {},
   "outputs": [],
   "source": [
    "os.makedirs('../store', exist_ok=True)"
   ]
  },
  {
   "cell_type": "code",
   "execution_count": 10,
   "metadata": {},
   "outputs": [],
   "source": [
    "from langchain_huggingface import HuggingFaceEmbeddings\n",
    "from langchain_community.vectorstores import FAISS\n",
    "\n",
    "embed = HuggingFaceEmbeddings(model_name='BAAI/bge-small-en-v1.5')\n",
    "# vector_db = FAISS.from_documents(chunks, embed)\n",
    "# vector_db.save_local('../store/vinilla_langchain')\n",
    "vector_db = FAISS.load_local('../store/vinilla_langchain', embed, allow_dangerous_deserialization=True)\n",
    "retriever = vector_db.as_retriever(search_kwargs={'k':6})"
   ]
  },
  {
   "cell_type": "code",
   "execution_count": 7,
   "metadata": {},
   "outputs": [],
   "source": [
    "from langchain_ollama.llms import OllamaLLM\n",
    "llm = OllamaLLM(model=\"qwen2.5:1.5b\")"
   ]
  },
  {
   "cell_type": "code",
   "execution_count": 21,
   "metadata": {},
   "outputs": [],
   "source": [
    "prompt_template = '''You are a helpful assistant, please answer the following question based on the given content:\n",
    "\n",
    "Question:\n",
    "```\n",
    "{question}\n",
    "```\n",
    "\n",
    "Content:\n",
    "```\n",
    "{content}\n",
    "```\n",
    "\n",
    "Just give a simple answer, do not include any additional information or explaination.\n",
    "'''\n",
    "\n",
    "qa_instruction = '''\n",
    "You are an expert in information evaluation and critical thinking. Your task is to find the answer to a given question from a passage of text. You must carefully read every word and think through each step without overlooking any details. Your output should contain two fields: `Reasoning` and `Response`. In `Reasoning`, document your logical thought process in a clear, concise manner. If you find the answer, write it in the `Response` field; if not, try your best to guess one. The `Reasoning` should end with '*' to indicate completion.\n",
    "\n",
    "Objective: The task is to carefully analyze a passage of text to determine whether it contains the answer to a given question. The evaluation must be detailed, with clear reasoning, and identify the correct answer if present, or confirm its absence.\n",
    "\n",
    "You are provided with the following inputs:\n",
    "\n",
    "1. Context: {question}\n",
    "2. Question: {content}\n",
    "\n",
    "Based on these inputs, provide a step-by-step explanation to identify the correct answer from the content. If you cannot find the answer in the passage, try to guess the answer. Your response should only contain the answer itself. Do not explain, provide notes, or include any additional text, punctuation, or preposition (e.g., 'on', 'at'), or articles (e.g., 'a', 'an', 'the') unless absolutely necessary.\n",
    "\n",
    "Output format: \n",
    "\n",
    "-----\n",
    "SCHEMA\n",
    "-----\n",
    "\n",
    "{{\n",
    "    \"Reasoning\": \"Step-by-step reasoning explaining how the answer is inferenced to satisfy the question.\",\n",
    "    \"Response\": \"The answer itself, as simple as possible.\"\n",
    "}}\n",
    "\n",
    "-----\n",
    "\n",
    "1. Context: ```Pilotwings 64\\nPilotwings 64 (Japanese: パイロットウイングス64, Hepburn: Pairottouingusu Rokujūyon) is a video game for the Nintendo 64, originally released in 1996 along with the debut of the console. The game was co-developed by Nintendo and the American visual technology group Paradigm Simulation. It was one of three launch titles for the Nintendo 64 in Japan as well as Europe and one of two launch titles in North America. Pilotwings 64 is a follow-up to Pilotwings for the Super Nintendo Entertainment System (SNES), which was a North American launch game for its respective console in 1991. Also like that game, Pilotwings 64 received production input from Nintendo producer Shigeru Miyamoto.```\n",
    "2. Question: Who is a Japanese video game designer and producer, currently serving as the co-Representative Director of Nintendo, who gave production input to a video game for the Nintendo 64, originally released in 1996 along with the debut of the console?\n",
    "\n",
    "-----\n",
    "\n",
    "output:\n",
    "\n",
    "{{\n",
    "    \"Reasoning\": \"The context mentions that 'Pilotwings 64' was a video game released in 1996 for the Nintendo 64. The game received production input from Nintendo producer Shigeru Miyamoto. This aligns with the question, which asks for a Japanese video game designer and producer who gave production input to a Nintendo 64 game released in 1996. Additionally, Shigeru Miyamoto is well known as a prominent figure at Nintendo and is currently serving as the co-Representative Director of the company. Therefore, the content fully supports that Shigeru Miyamoto is the correct answer to the question.*\", \n",
    "    \"Response\": \"Shigeru Miyamoto\" \n",
    "}}\n",
    "\n",
    "-----\n",
    "\n",
    "'''"
   ]
  },
  {
   "cell_type": "code",
   "execution_count": 24,
   "metadata": {},
   "outputs": [],
   "source": [
    "res = {'query': [], 'answer': [], 'predict': []}"
   ]
  },
  {
   "cell_type": "code",
   "execution_count": 26,
   "metadata": {},
   "outputs": [
    {
     "name": "stderr",
     "output_type": "stream",
     "text": [
      "100%|██████████| 314/314 [03:18<00:00,  1.58it/s]\n"
     ]
    }
   ],
   "source": [
    "for d in tqdm(ds):\n",
    "    q = d['query']\n",
    "    a = d['answer']\n",
    "    retrieval = '\\n'.join([r.page_content for r in retriever.invoke(q)])\n",
    "    # print(q)\n",
    "    # print(retrieval)\n",
    "    # break\n",
    "    # response = llm.invoke(qa_instruction.format(question=q, content=retrieval))\n",
    "    response = llm.invoke(prompt_template.format(question=q, content=retrieval))\n",
    "    # print(response)\n",
    "    # print(a)\n",
    "    # break\n",
    "    res['query'].append(q)\n",
    "    res['answer'].append(a)\n",
    "    res['predict'].append(response)"
   ]
  },
  {
   "cell_type": "code",
   "execution_count": 27,
   "metadata": {},
   "outputs": [],
   "source": [
    "with open('../data/sample.json', 'w') as f:\n",
    "    json.dump(res, f, ensure_ascii=False, indent=4)"
   ]
  },
  {
   "cell_type": "code",
   "execution_count": 28,
   "metadata": {},
   "outputs": [
    {
     "name": "stdout",
     "output_type": "stream",
     "text": [
      "Is the ISR necessary for transgene reactivation?\n",
      "No, it is not necessary.\n",
      "No, the ISR (Intracellular Signal Transduction) is neither necessary nor sufficient for transgene reactivation.\n",
      "-------------\n",
      "What experimental techniques were used to study the quantum dot structures in this research?\n",
      "Low temperature scanning tunneling microscopy and spectroscopy (STM/STS).\n",
      "Low-temperature scanning tunneling microscopy/photoluminescence measurements supported by analytical models and ab-initio simulations were used to study quantum dot structures in this research.\n",
      "-------------\n",
      "What is the purpose of an ICD?\n",
      "Implantable Cardioverter Defibrillator (ICD) is a surgically implanted electronic device to treat life-threatening heartbeat irregularities.\n",
      "The purpose of an ICD is to describe the patient's histological diagnosis in pathology reports for cancer registries, as per the World Health Organization's International Classification of Diseases for Oncology.\n",
      "-------------\n",
      "Why is it important for the sides of the fuselage to be sloped (tumbled home)?\n",
      "The sides of the fuselage are sloped to create a conical section when the fuselage is formed.\n",
      "The sides of the fuselage need to be sloped (tumbled home) to form a conical shape when cut by an oblique plane, creating a more aerodynamic and structurally sound design. Without this slope, the side panels would form a cylindrical section with flat longerons, leading to structural issues during assembly and potentially a less efficient aircraft structure.\n",
      "-------------\n",
      "How is electricity used in everyday life?\n",
      "Electricity is used for transport, heating, lighting, communications, and computation.\n",
      "Electricity powers homes and businesses through generators, batteries, and other energy sources to provide lighting, heating, cooling, and many other everyday uses.\n",
      "-------------\n",
      "What was Hugh H. Goodwin's rank in the United States Navy?\n",
      "Vice Admiral.\n",
      "Vice Admiral\n",
      "-------------\n",
      "What are the three synthetic types of vitamin K?\n",
      "Vitamins K3, K4, and K5.\n",
      "The three synthetic types of vitamin K are vitamins K3 (menadione), K4, and K5.\n",
      "-------------\n"
     ]
    }
   ],
   "source": [
    "for i, (q, a, p) in enumerate(zip(res['query'], res['answer'], res['predict'])):\n",
    "    print(f'{q}\\n{a}\\n{p}\\n-------------')\n",
    "    if i > 5:\n",
    "        break"
   ]
  },
  {
   "cell_type": "code",
   "execution_count": 30,
   "metadata": {},
   "outputs": [],
   "source": [
    "# aggregate\n",
    "files = Path('/Users/wenjiazhai/Documents/GitHub/paper_analyze/output/LongBench').rglob('*.json')\n",
    "data = [json.loads(open(file).read()) for file in files]\n",
    "df = pd.DataFrame(data)\n",
    "df.to_csv('../output/vanilla_longbench.csv', index=False)"
   ]
  },
  {
   "cell_type": "code",
   "execution_count": 33,
   "metadata": {},
   "outputs": [
    {
     "data": {
      "text/plain": [
       "0.2229299363057325"
      ]
     },
     "execution_count": 33,
     "metadata": {},
     "output_type": "execute_result"
    }
   ],
   "source": [
    "df['consistency'].astype(int).sum() / len(df)"
   ]
  },
  {
   "cell_type": "code",
   "execution_count": null,
   "metadata": {},
   "outputs": [],
   "source": []
  }
 ],
 "metadata": {
  "kernelspec": {
   "display_name": "langchain",
   "language": "python",
   "name": "python3"
  },
  "language_info": {
   "codemirror_mode": {
    "name": "ipython",
    "version": 3
   },
   "file_extension": ".py",
   "mimetype": "text/x-python",
   "name": "python",
   "nbconvert_exporter": "python",
   "pygments_lexer": "ipython3",
   "version": "3.11.10"
  }
 },
 "nbformat": 4,
 "nbformat_minor": 2
}
